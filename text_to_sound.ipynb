{
  "nbformat": 4,
  "nbformat_minor": 0,
  "metadata": {
    "colab": {
      "provenance": []
    },
    "kernelspec": {
      "name": "python3",
      "display_name": "Python 3"
    },
    "language_info": {
      "name": "python"
    }
  },
  "cells": [
    {
      "cell_type": "code",
      "execution_count": null,
      "metadata": {
        "colab": {
          "base_uri": "https://localhost:8080/"
        },
        "id": "F7AsuOtaaXVY",
        "outputId": "60f377eb-fe13-4595-cd0a-d3817dc60025"
      },
      "outputs": [
        {
          "output_type": "stream",
          "name": "stdout",
          "text": [
            "Collecting gtts\n",
            "  Downloading gTTS-2.5.4-py3-none-any.whl.metadata (4.1 kB)\n",
            "Requirement already satisfied: requests<3,>=2.27 in /usr/local/lib/python3.11/dist-packages (from gtts) (2.32.3)\n",
            "Requirement already satisfied: click<8.2,>=7.1 in /usr/local/lib/python3.11/dist-packages (from gtts) (8.1.8)\n",
            "Requirement already satisfied: charset-normalizer<4,>=2 in /usr/local/lib/python3.11/dist-packages (from requests<3,>=2.27->gtts) (3.4.1)\n",
            "Requirement already satisfied: idna<4,>=2.5 in /usr/local/lib/python3.11/dist-packages (from requests<3,>=2.27->gtts) (3.10)\n",
            "Requirement already satisfied: urllib3<3,>=1.21.1 in /usr/local/lib/python3.11/dist-packages (from requests<3,>=2.27->gtts) (2.3.0)\n",
            "Requirement already satisfied: certifi>=2017.4.17 in /usr/local/lib/python3.11/dist-packages (from requests<3,>=2.27->gtts) (2024.12.14)\n",
            "Downloading gTTS-2.5.4-py3-none-any.whl (29 kB)\n",
            "Installing collected packages: gtts\n",
            "Successfully installed gtts-2.5.4\n"
          ]
        }
      ],
      "source": [
        "pip install gtts"
      ]
    },
    {
      "cell_type": "code",
      "source": [
        "import gtts\n",
        "from gtts import gTTS"
      ],
      "metadata": {
        "id": "jx5LxX_Wacdd"
      },
      "execution_count": null,
      "outputs": []
    },
    {
      "cell_type": "code",
      "source": [
        "my_text=\"تقي زعلانه\"\n",
        "language=\"ar\"\n",
        "obj=gTTS(slow=False,lang=language,text=my_text)\n",
        "obj.save('Welcome_arabic1.mp3')\n",
        "import IPython\n",
        "IPython.display.Audio('Welcome_arabic1.mp3',autoplay=True)\n"
      ],
      "metadata": {
        "colab": {
          "base_uri": "https://localhost:8080/",
          "height": 75
        },
        "id": "nhi_6bauanrI",
        "outputId": "d11d22fe-5de5-43a7-8d3f-d565c9fda580"
      },
      "execution_count": null,
      "outputs": [
        {
          "output_type": "execute_result",
          "data": {
            "text/plain": [
              "<IPython.lib.display.Audio object>"
            ],
            "text/html": [
              "\n",
              "                <audio  controls=\"controls\" autoplay=\"autoplay\">\n",
              "                    <source src=\"data:audio/mpeg;base64,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\" type=\"audio/mpeg\" />\n",
              "                    Your browser does not support the audio element.\n",
              "                </audio>\n",
              "              "
            ]
          },
          "metadata": {},
          "execution_count": 22
        }
      ]
    },
    {
      "cell_type": "code",
      "source": [
        "pip install speechrecognition"
      ],
      "metadata": {
        "colab": {
          "base_uri": "https://localhost:8080/"
        },
        "id": "AW-RlOqMb30v",
        "outputId": "70dfbac9-4fab-4770-8606-d60d4a53e808"
      },
      "execution_count": null,
      "outputs": [
        {
          "output_type": "stream",
          "name": "stdout",
          "text": [
            "Collecting speechrecognition\n",
            "  Downloading SpeechRecognition-3.14.1-py3-none-any.whl.metadata (31 kB)\n",
            "Requirement already satisfied: typing-extensions in /usr/local/lib/python3.11/dist-packages (from speechrecognition) (4.12.2)\n",
            "Downloading SpeechRecognition-3.14.1-py3-none-any.whl (32.9 MB)\n",
            "\u001b[2K   \u001b[90m━━━━━━━━━━━━━━━━━━━━━━━━━━━━━━━━━━━━━━━━\u001b[0m \u001b[32m32.9/32.9 MB\u001b[0m \u001b[31m50.8 MB/s\u001b[0m eta \u001b[36m0:00:00\u001b[0m\n",
            "\u001b[?25hInstalling collected packages: speechrecognition\n",
            "Successfully installed speechrecognition-3.14.1\n"
          ]
        }
      ]
    },
    {
      "cell_type": "code",
      "source": [
        "pip install SpeechRecognition"
      ],
      "metadata": {
        "colab": {
          "base_uri": "https://localhost:8080/"
        },
        "id": "1uiUpMHcdvW6",
        "outputId": "cceb3771-dbf5-46fd-98bc-473d158409b3"
      },
      "execution_count": null,
      "outputs": [
        {
          "output_type": "stream",
          "name": "stdout",
          "text": [
            "Requirement already satisfied: SpeechRecognition in /usr/local/lib/python3.11/dist-packages (3.14.1)\n",
            "Requirement already satisfied: typing-extensions in /usr/local/lib/python3.11/dist-packages (from SpeechRecognition) (4.12.2)\n"
          ]
        }
      ]
    },
    {
      "cell_type": "code",
      "source": [
        "import speech_recognition as sr\n",
        "r=sr.Recognizer()\n",
        "filename=\"/content/16-122828-0002.wav\"\n",
        "with sr.AudioFile(filename) as source:\n",
        "    audio=r.record(source)"
      ],
      "metadata": {
        "id": "mzHf_o_-d3Eo"
      },
      "execution_count": null,
      "outputs": []
    },
    {
      "cell_type": "code",
      "source": [
        "with sr.AudioFile(filename) as source:\n",
        "    audio=r.record(source)\n",
        "    text=r.recognize_google(audio,language=\"en\")\n",
        "    print(text)"
      ],
      "metadata": {
        "colab": {
          "base_uri": "https://localhost:8080/"
        },
        "id": "mlRw8tZjep1F",
        "outputId": "b51b313e-59fe-4ee4-e8c6-11ed9303b097"
      },
      "execution_count": null,
      "outputs": [
        {
          "output_type": "stream",
          "name": "stdout",
          "text": [
            "I believe you are just talking nonsense\n"
          ]
        }
      ]
    },
    {
      "cell_type": "code",
      "source": [
        "pip install googletrans==4.0.0-rc1"
      ],
      "metadata": {
        "colab": {
          "base_uri": "https://localhost:8080/",
          "height": 1000
        },
        "id": "k3oFgWqtfKuu",
        "outputId": "d17c9136-3c20-4440-9f27-e5e7a3714a34"
      },
      "execution_count": null,
      "outputs": [
        {
          "output_type": "stream",
          "name": "stdout",
          "text": [
            "Collecting googletrans==4.0.0-rc1\n",
            "  Downloading googletrans-4.0.0rc1.tar.gz (20 kB)\n",
            "  Preparing metadata (setup.py) ... \u001b[?25l\u001b[?25hdone\n",
            "Collecting httpx==0.13.3 (from googletrans==4.0.0-rc1)\n",
            "  Downloading httpx-0.13.3-py3-none-any.whl.metadata (25 kB)\n",
            "Requirement already satisfied: certifi in /usr/local/lib/python3.11/dist-packages (from httpx==0.13.3->googletrans==4.0.0-rc1) (2024.12.14)\n",
            "Collecting hstspreload (from httpx==0.13.3->googletrans==4.0.0-rc1)\n",
            "  Downloading hstspreload-2025.1.1-py3-none-any.whl.metadata (2.1 kB)\n",
            "Requirement already satisfied: sniffio in /usr/local/lib/python3.11/dist-packages (from httpx==0.13.3->googletrans==4.0.0-rc1) (1.3.1)\n",
            "Collecting chardet==3.* (from httpx==0.13.3->googletrans==4.0.0-rc1)\n",
            "  Downloading chardet-3.0.4-py2.py3-none-any.whl.metadata (3.2 kB)\n",
            "Collecting idna==2.* (from httpx==0.13.3->googletrans==4.0.0-rc1)\n",
            "  Downloading idna-2.10-py2.py3-none-any.whl.metadata (9.1 kB)\n",
            "Collecting rfc3986<2,>=1.3 (from httpx==0.13.3->googletrans==4.0.0-rc1)\n",
            "  Downloading rfc3986-1.5.0-py2.py3-none-any.whl.metadata (6.5 kB)\n",
            "Collecting httpcore==0.9.* (from httpx==0.13.3->googletrans==4.0.0-rc1)\n",
            "  Downloading httpcore-0.9.1-py3-none-any.whl.metadata (4.6 kB)\n",
            "Collecting h11<0.10,>=0.8 (from httpcore==0.9.*->httpx==0.13.3->googletrans==4.0.0-rc1)\n",
            "  Downloading h11-0.9.0-py2.py3-none-any.whl.metadata (8.1 kB)\n",
            "Collecting h2==3.* (from httpcore==0.9.*->httpx==0.13.3->googletrans==4.0.0-rc1)\n",
            "  Downloading h2-3.2.0-py2.py3-none-any.whl.metadata (32 kB)\n",
            "Collecting hyperframe<6,>=5.2.0 (from h2==3.*->httpcore==0.9.*->httpx==0.13.3->googletrans==4.0.0-rc1)\n",
            "  Downloading hyperframe-5.2.0-py2.py3-none-any.whl.metadata (7.2 kB)\n",
            "Collecting hpack<4,>=3.0 (from h2==3.*->httpcore==0.9.*->httpx==0.13.3->googletrans==4.0.0-rc1)\n",
            "  Downloading hpack-3.0.0-py2.py3-none-any.whl.metadata (7.0 kB)\n",
            "Downloading httpx-0.13.3-py3-none-any.whl (55 kB)\n",
            "\u001b[2K   \u001b[90m━━━━━━━━━━━━━━━━━━━━━━━━━━━━━━━━━━━━━━━━\u001b[0m \u001b[32m55.1/55.1 kB\u001b[0m \u001b[31m4.4 MB/s\u001b[0m eta \u001b[36m0:00:00\u001b[0m\n",
            "\u001b[?25hDownloading chardet-3.0.4-py2.py3-none-any.whl (133 kB)\n",
            "\u001b[2K   \u001b[90m━━━━━━━━━━━━━━━━━━━━━━━━━━━━━━━━━━━━━━━━\u001b[0m \u001b[32m133.4/133.4 kB\u001b[0m \u001b[31m12.0 MB/s\u001b[0m eta \u001b[36m0:00:00\u001b[0m\n",
            "\u001b[?25hDownloading httpcore-0.9.1-py3-none-any.whl (42 kB)\n",
            "\u001b[2K   \u001b[90m━━━━━━━━━━━━━━━━━━━━━━━━━━━━━━━━━━━━━━━━\u001b[0m \u001b[32m42.6/42.6 kB\u001b[0m \u001b[31m3.4 MB/s\u001b[0m eta \u001b[36m0:00:00\u001b[0m\n",
            "\u001b[?25hDownloading idna-2.10-py2.py3-none-any.whl (58 kB)\n",
            "\u001b[2K   \u001b[90m━━━━━━━━━━━━━━━━━━━━━━━━━━━━━━━━━━━━━━━━\u001b[0m \u001b[32m58.8/58.8 kB\u001b[0m \u001b[31m4.7 MB/s\u001b[0m eta \u001b[36m0:00:00\u001b[0m\n",
            "\u001b[?25hDownloading h2-3.2.0-py2.py3-none-any.whl (65 kB)\n",
            "\u001b[2K   \u001b[90m━━━━━━━━━━━━━━━━━━━━━━━━━━━━━━━━━━━━━━━━\u001b[0m \u001b[32m65.0/65.0 kB\u001b[0m \u001b[31m5.6 MB/s\u001b[0m eta \u001b[36m0:00:00\u001b[0m\n",
            "\u001b[?25hDownloading rfc3986-1.5.0-py2.py3-none-any.whl (31 kB)\n",
            "Downloading hstspreload-2025.1.1-py3-none-any.whl (1.3 MB)\n",
            "\u001b[2K   \u001b[90m━━━━━━━━━━━━━━━━━━━━━━━━━━━━━━━━━━━━━━━━\u001b[0m \u001b[32m1.3/1.3 MB\u001b[0m \u001b[31m62.9 MB/s\u001b[0m eta \u001b[36m0:00:00\u001b[0m\n",
            "\u001b[?25hDownloading h11-0.9.0-py2.py3-none-any.whl (53 kB)\n",
            "\u001b[2K   \u001b[90m━━━━━━━━━━━━━━━━━━━━━━━━━━━━━━━━━━━━━━━━\u001b[0m \u001b[32m53.6/53.6 kB\u001b[0m \u001b[31m4.9 MB/s\u001b[0m eta \u001b[36m0:00:00\u001b[0m\n",
            "\u001b[?25hDownloading hpack-3.0.0-py2.py3-none-any.whl (38 kB)\n",
            "Downloading hyperframe-5.2.0-py2.py3-none-any.whl (12 kB)\n",
            "Building wheels for collected packages: googletrans\n",
            "  Building wheel for googletrans (setup.py) ... \u001b[?25l\u001b[?25hdone\n",
            "  Created wheel for googletrans: filename=googletrans-4.0.0rc1-py3-none-any.whl size=17397 sha256=e93462a121ebc682a85480676b764d362b39828d2666a379971bdd1bb6972601\n",
            "  Stored in directory: /root/.cache/pip/wheels/39/17/6f/66a045ea3d168826074691b4b787b8f324d3f646d755443fda\n",
            "Successfully built googletrans\n",
            "Installing collected packages: rfc3986, hyperframe, hpack, h11, chardet, idna, hstspreload, h2, httpcore, httpx, googletrans\n",
            "  Attempting uninstall: h11\n",
            "    Found existing installation: h11 0.14.0\n",
            "    Uninstalling h11-0.14.0:\n",
            "      Successfully uninstalled h11-0.14.0\n",
            "  Attempting uninstall: chardet\n",
            "    Found existing installation: chardet 5.2.0\n",
            "    Uninstalling chardet-5.2.0:\n",
            "      Successfully uninstalled chardet-5.2.0\n",
            "  Attempting uninstall: idna\n",
            "    Found existing installation: idna 3.10\n",
            "    Uninstalling idna-3.10:\n",
            "      Successfully uninstalled idna-3.10\n",
            "  Attempting uninstall: httpcore\n",
            "    Found existing installation: httpcore 1.0.7\n",
            "    Uninstalling httpcore-1.0.7:\n",
            "      Successfully uninstalled httpcore-1.0.7\n",
            "  Attempting uninstall: httpx\n",
            "    Found existing installation: httpx 0.28.1\n",
            "    Uninstalling httpx-0.28.1:\n",
            "      Successfully uninstalled httpx-0.28.1\n",
            "\u001b[31mERROR: pip's dependency resolver does not currently take into account all the packages that are installed. This behaviour is the source of the following dependency conflicts.\n",
            "openai 1.59.9 requires httpx<1,>=0.23.0, but you have httpx 0.13.3 which is incompatible.\n",
            "langsmith 0.3.2 requires httpx<1,>=0.23.0, but you have httpx 0.13.3 which is incompatible.\u001b[0m\u001b[31m\n",
            "\u001b[0mSuccessfully installed chardet-3.0.4 googletrans-4.0.0rc1 h11-0.9.0 h2-3.2.0 hpack-3.0.0 hstspreload-2025.1.1 httpcore-0.9.1 httpx-0.13.3 hyperframe-5.2.0 idna-2.10 rfc3986-1.5.0\n"
          ]
        },
        {
          "output_type": "display_data",
          "data": {
            "application/vnd.colab-display-data+json": {
              "pip_warning": {
                "packages": [
                  "chardet",
                  "idna"
                ]
              },
              "id": "bcc238d024d84a8f8cc0f02f526a7039"
            }
          },
          "metadata": {}
        }
      ]
    },
    {
      "cell_type": "code",
      "source": [
        "import speech_recognition as sr\n",
        "from googletrans import Translator\n",
        "\n",
        "translator = Translator()\n",
        "\n",
        "r = sr.Recognizer()\n",
        "filename = \"/content/16-122828-0002.wav\"\n",
        "\n",
        "with sr.AudioFile(filename) as source:\n",
        "    audio = r.record(source)\n",
        "    text = r.recognize_google(audio, language=\"en\")\n",
        "    print(\"Original Text: \", text)\n",
        "\n",
        "    translated_text = translator.translate(text, dest=\"ar\")\n",
        "    print(\"Translated Text: \", translated_text.text)\n"
      ],
      "metadata": {
        "colab": {
          "base_uri": "https://localhost:8080/"
        },
        "id": "RLEkfJDxqLB1",
        "outputId": "cdebc47e-363c-47f5-a04b-92f33e01fbdf"
      },
      "execution_count": null,
      "outputs": [
        {
          "output_type": "stream",
          "name": "stdout",
          "text": [
            "Original Text:  I believe you are just talking nonsense\n",
            "Translated Text:  أعتقد أنك تتحدث للتو الهراء\n"
          ]
        }
      ]
    },
    {
      "cell_type": "code",
      "source": [
        "!apt-get install portaudio19-dev\n",
        "!pip install pyaudio\n"
      ],
      "metadata": {
        "colab": {
          "base_uri": "https://localhost:8080/"
        },
        "id": "Ol1o0xweq_EA",
        "outputId": "c73bd184-3f0f-4dd0-92fe-67f316b573b5"
      },
      "execution_count": null,
      "outputs": [
        {
          "output_type": "stream",
          "name": "stdout",
          "text": [
            "Reading package lists... Done\n",
            "Building dependency tree... Done\n",
            "Reading state information... Done\n",
            "The following additional packages will be installed:\n",
            "  libportaudio2 libportaudiocpp0\n",
            "Suggested packages:\n",
            "  portaudio19-doc\n",
            "The following NEW packages will be installed:\n",
            "  libportaudio2 libportaudiocpp0 portaudio19-dev\n",
            "0 upgraded, 3 newly installed, 0 to remove and 18 not upgraded.\n",
            "Need to get 188 kB of archives.\n",
            "After this operation, 927 kB of additional disk space will be used.\n",
            "Get:1 http://archive.ubuntu.com/ubuntu jammy/universe amd64 libportaudio2 amd64 19.6.0-1.1 [65.3 kB]\n",
            "Get:2 http://archive.ubuntu.com/ubuntu jammy/universe amd64 libportaudiocpp0 amd64 19.6.0-1.1 [16.1 kB]\n",
            "Get:3 http://archive.ubuntu.com/ubuntu jammy/universe amd64 portaudio19-dev amd64 19.6.0-1.1 [106 kB]\n",
            "Fetched 188 kB in 0s (1,478 kB/s)\n",
            "Selecting previously unselected package libportaudio2:amd64.\n",
            "(Reading database ... 124926 files and directories currently installed.)\n",
            "Preparing to unpack .../libportaudio2_19.6.0-1.1_amd64.deb ...\n",
            "Unpacking libportaudio2:amd64 (19.6.0-1.1) ...\n",
            "Selecting previously unselected package libportaudiocpp0:amd64.\n",
            "Preparing to unpack .../libportaudiocpp0_19.6.0-1.1_amd64.deb ...\n",
            "Unpacking libportaudiocpp0:amd64 (19.6.0-1.1) ...\n",
            "Selecting previously unselected package portaudio19-dev:amd64.\n",
            "Preparing to unpack .../portaudio19-dev_19.6.0-1.1_amd64.deb ...\n",
            "Unpacking portaudio19-dev:amd64 (19.6.0-1.1) ...\n",
            "Setting up libportaudio2:amd64 (19.6.0-1.1) ...\n",
            "Setting up libportaudiocpp0:amd64 (19.6.0-1.1) ...\n",
            "Setting up portaudio19-dev:amd64 (19.6.0-1.1) ...\n",
            "Processing triggers for libc-bin (2.35-0ubuntu3.8) ...\n",
            "/sbin/ldconfig.real: /usr/local/lib/libtbbmalloc.so.2 is not a symbolic link\n",
            "\n",
            "/sbin/ldconfig.real: /usr/local/lib/libur_loader.so.0 is not a symbolic link\n",
            "\n",
            "/sbin/ldconfig.real: /usr/local/lib/libtbbmalloc_proxy.so.2 is not a symbolic link\n",
            "\n",
            "/sbin/ldconfig.real: /usr/local/lib/libtbbbind.so.3 is not a symbolic link\n",
            "\n",
            "/sbin/ldconfig.real: /usr/local/lib/libtbb.so.12 is not a symbolic link\n",
            "\n",
            "/sbin/ldconfig.real: /usr/local/lib/libtbbbind_2_0.so.3 is not a symbolic link\n",
            "\n",
            "/sbin/ldconfig.real: /usr/local/lib/libhwloc.so.15 is not a symbolic link\n",
            "\n",
            "/sbin/ldconfig.real: /usr/local/lib/libtcm_debug.so.1 is not a symbolic link\n",
            "\n",
            "/sbin/ldconfig.real: /usr/local/lib/libur_adapter_level_zero.so.0 is not a symbolic link\n",
            "\n",
            "/sbin/ldconfig.real: /usr/local/lib/libur_adapter_opencl.so.0 is not a symbolic link\n",
            "\n",
            "/sbin/ldconfig.real: /usr/local/lib/libtbbbind_2_5.so.3 is not a symbolic link\n",
            "\n",
            "/sbin/ldconfig.real: /usr/local/lib/libumf.so.0 is not a symbolic link\n",
            "\n",
            "/sbin/ldconfig.real: /usr/local/lib/libtcm.so.1 is not a symbolic link\n",
            "\n",
            "Collecting pyaudio\n",
            "  Using cached PyAudio-0.2.14.tar.gz (47 kB)\n",
            "  Installing build dependencies ... \u001b[?25l\u001b[?25hdone\n",
            "  Getting requirements to build wheel ... \u001b[?25l\u001b[?25hdone\n",
            "  Preparing metadata (pyproject.toml) ... \u001b[?25l\u001b[?25hdone\n",
            "Building wheels for collected packages: pyaudio\n",
            "  Building wheel for pyaudio (pyproject.toml) ... \u001b[?25l\u001b[?25hdone\n",
            "  Created wheel for pyaudio: filename=PyAudio-0.2.14-cp311-cp311-linux_x86_64.whl size=67395 sha256=aa58c4aec449c5f831f8fabf3aee25198a31407c15a76e79e65afa73aeeff5ca\n",
            "  Stored in directory: /root/.cache/pip/wheels/80/b1/c1/67e4ef443de2665d86031d4760508094eab5de37d5d64d9c27\n",
            "Successfully built pyaudio\n",
            "Installing collected packages: pyaudio\n",
            "Successfully installed pyaudio-0.2.14\n"
          ]
        }
      ]
    },
    {
      "cell_type": "code",
      "source": [
        "import speech_recognition as sr\n",
        "from googletrans import Translator\n",
        "\n",
        "def recognize_and_translate():\n",
        "    # إنشاء كائنات لمكتبة التعرف على الصوت والترجمة\n",
        "    recognizer = sr.Recognizer()\n",
        "    translator = Translator()\n",
        "\n",
        "    try:\n",
        "        # استخدام الميكروفون كمصدر إدخال للصوت\n",
        "        with sr.Microphone() as source:\n",
        "            print(\"تحدث الآن...\")\n",
        "            audio = recognizer.listen(source)  # تسجيل الصوت\n",
        "\n",
        "            # التعرف على النص من الصوت\n",
        "            text = recognizer.recognize_google(audio, language=\"en\")\n",
        "            print(\"النص المكتشف: \", text)\n",
        "\n",
        "            # ترجمة النص إلى العربية\n",
        "            translated_text = translator.translate(text, dest=\"ar\")\n",
        "            print(\"النص المترجم: \", translated_text.text)\n",
        "\n",
        "    except sr.UnknownValueError:\n",
        "        print(\"لم أتمكن من فهم الصوت.\")\n",
        "    except sr.RequestError:\n",
        "        print(\"حدث خطأ أثناء الاتصال بخدمة Google Speech Recognition.\")\n",
        "\n",
        "# تشغيل الدالة\n",
        "recognize_and_translate()\n"
      ],
      "metadata": {
        "colab": {
          "base_uri": "https://localhost:8080/",
          "height": 333
        },
        "id": "aGxMZhlFqXzU",
        "outputId": "a826d84f-fd50-42f6-b6ee-8f4197bddbd5"
      },
      "execution_count": null,
      "outputs": [
        {
          "output_type": "error",
          "ename": "OSError",
          "evalue": "No Default Input Device Available",
          "traceback": [
            "\u001b[0;31m---------------------------------------------------------------------------\u001b[0m",
            "\u001b[0;31mOSError\u001b[0m                                   Traceback (most recent call last)",
            "\u001b[0;32m<ipython-input-11-24400aab8976>\u001b[0m in \u001b[0;36m<cell line: 0>\u001b[0;34m()\u001b[0m\n\u001b[1;32m     27\u001b[0m \u001b[0;34m\u001b[0m\u001b[0m\n\u001b[1;32m     28\u001b[0m \u001b[0;31m# تشغيل الدالة\u001b[0m\u001b[0;34m\u001b[0m\u001b[0;34m\u001b[0m\u001b[0m\n\u001b[0;32m---> 29\u001b[0;31m \u001b[0mrecognize_and_translate\u001b[0m\u001b[0;34m(\u001b[0m\u001b[0;34m)\u001b[0m\u001b[0;34m\u001b[0m\u001b[0;34m\u001b[0m\u001b[0m\n\u001b[0m",
            "\u001b[0;32m<ipython-input-11-24400aab8976>\u001b[0m in \u001b[0;36mrecognize_and_translate\u001b[0;34m()\u001b[0m\n\u001b[1;32m      9\u001b[0m     \u001b[0;32mtry\u001b[0m\u001b[0;34m:\u001b[0m\u001b[0;34m\u001b[0m\u001b[0;34m\u001b[0m\u001b[0m\n\u001b[1;32m     10\u001b[0m         \u001b[0;31m# استخدام الميكروفون كمصدر إدخال للصوت\u001b[0m\u001b[0;34m\u001b[0m\u001b[0;34m\u001b[0m\u001b[0m\n\u001b[0;32m---> 11\u001b[0;31m         \u001b[0;32mwith\u001b[0m \u001b[0msr\u001b[0m\u001b[0;34m.\u001b[0m\u001b[0mMicrophone\u001b[0m\u001b[0;34m(\u001b[0m\u001b[0;34m)\u001b[0m \u001b[0;32mas\u001b[0m \u001b[0msource\u001b[0m\u001b[0;34m:\u001b[0m\u001b[0;34m\u001b[0m\u001b[0;34m\u001b[0m\u001b[0m\n\u001b[0m\u001b[1;32m     12\u001b[0m             \u001b[0mprint\u001b[0m\u001b[0;34m(\u001b[0m\u001b[0;34m\"تحدث الآن...\"\u001b[0m\u001b[0;34m)\u001b[0m\u001b[0;34m\u001b[0m\u001b[0;34m\u001b[0m\u001b[0m\n\u001b[1;32m     13\u001b[0m             \u001b[0maudio\u001b[0m \u001b[0;34m=\u001b[0m \u001b[0mrecognizer\u001b[0m\u001b[0;34m.\u001b[0m\u001b[0mlisten\u001b[0m\u001b[0;34m(\u001b[0m\u001b[0msource\u001b[0m\u001b[0;34m)\u001b[0m  \u001b[0;31m# تسجيل الصوت\u001b[0m\u001b[0;34m\u001b[0m\u001b[0;34m\u001b[0m\u001b[0m\n",
            "\u001b[0;32m/usr/local/lib/python3.11/dist-packages/speech_recognition/__init__.py\u001b[0m in \u001b[0;36m__init__\u001b[0;34m(self, device_index, sample_rate, chunk_size)\u001b[0m\n\u001b[1;32m     80\u001b[0m                 \u001b[0;32massert\u001b[0m \u001b[0;36m0\u001b[0m \u001b[0;34m<=\u001b[0m \u001b[0mdevice_index\u001b[0m \u001b[0;34m<\u001b[0m \u001b[0mcount\u001b[0m\u001b[0;34m,\u001b[0m \u001b[0;34m\"Device index out of range ({} devices available; device index should be between 0 and {} inclusive)\"\u001b[0m\u001b[0;34m.\u001b[0m\u001b[0mformat\u001b[0m\u001b[0;34m(\u001b[0m\u001b[0mcount\u001b[0m\u001b[0;34m,\u001b[0m \u001b[0mcount\u001b[0m \u001b[0;34m-\u001b[0m \u001b[0;36m1\u001b[0m\u001b[0;34m)\u001b[0m\u001b[0;34m\u001b[0m\u001b[0;34m\u001b[0m\u001b[0m\n\u001b[1;32m     81\u001b[0m             \u001b[0;32mif\u001b[0m \u001b[0msample_rate\u001b[0m \u001b[0;32mis\u001b[0m \u001b[0;32mNone\u001b[0m\u001b[0;34m:\u001b[0m  \u001b[0;31m# automatically set the sample rate to the hardware's default sample rate if not specified\u001b[0m\u001b[0;34m\u001b[0m\u001b[0;34m\u001b[0m\u001b[0m\n\u001b[0;32m---> 82\u001b[0;31m                 \u001b[0mdevice_info\u001b[0m \u001b[0;34m=\u001b[0m \u001b[0maudio\u001b[0m\u001b[0;34m.\u001b[0m\u001b[0mget_device_info_by_index\u001b[0m\u001b[0;34m(\u001b[0m\u001b[0mdevice_index\u001b[0m\u001b[0;34m)\u001b[0m \u001b[0;32mif\u001b[0m \u001b[0mdevice_index\u001b[0m \u001b[0;32mis\u001b[0m \u001b[0;32mnot\u001b[0m \u001b[0;32mNone\u001b[0m \u001b[0;32melse\u001b[0m \u001b[0maudio\u001b[0m\u001b[0;34m.\u001b[0m\u001b[0mget_default_input_device_info\u001b[0m\u001b[0;34m(\u001b[0m\u001b[0;34m)\u001b[0m\u001b[0;34m\u001b[0m\u001b[0;34m\u001b[0m\u001b[0m\n\u001b[0m\u001b[1;32m     83\u001b[0m                 \u001b[0;32massert\u001b[0m \u001b[0misinstance\u001b[0m\u001b[0;34m(\u001b[0m\u001b[0mdevice_info\u001b[0m\u001b[0;34m.\u001b[0m\u001b[0mget\u001b[0m\u001b[0;34m(\u001b[0m\u001b[0;34m\"defaultSampleRate\"\u001b[0m\u001b[0;34m)\u001b[0m\u001b[0;34m,\u001b[0m \u001b[0;34m(\u001b[0m\u001b[0mfloat\u001b[0m\u001b[0;34m,\u001b[0m \u001b[0mint\u001b[0m\u001b[0;34m)\u001b[0m\u001b[0;34m)\u001b[0m \u001b[0;32mand\u001b[0m \u001b[0mdevice_info\u001b[0m\u001b[0;34m[\u001b[0m\u001b[0;34m\"defaultSampleRate\"\u001b[0m\u001b[0;34m]\u001b[0m \u001b[0;34m>\u001b[0m \u001b[0;36m0\u001b[0m\u001b[0;34m,\u001b[0m \u001b[0;34m\"Invalid device info returned from PyAudio: {}\"\u001b[0m\u001b[0;34m.\u001b[0m\u001b[0mformat\u001b[0m\u001b[0;34m(\u001b[0m\u001b[0mdevice_info\u001b[0m\u001b[0;34m)\u001b[0m\u001b[0;34m\u001b[0m\u001b[0;34m\u001b[0m\u001b[0m\n\u001b[1;32m     84\u001b[0m                 \u001b[0msample_rate\u001b[0m \u001b[0;34m=\u001b[0m \u001b[0mint\u001b[0m\u001b[0;34m(\u001b[0m\u001b[0mdevice_info\u001b[0m\u001b[0;34m[\u001b[0m\u001b[0;34m\"defaultSampleRate\"\u001b[0m\u001b[0;34m]\u001b[0m\u001b[0;34m)\u001b[0m\u001b[0;34m\u001b[0m\u001b[0;34m\u001b[0m\u001b[0m\n",
            "\u001b[0;32m/usr/local/lib/python3.11/dist-packages/pyaudio/__init__.py\u001b[0m in \u001b[0;36mget_default_input_device_info\u001b[0;34m(self)\u001b[0m\n\u001b[1;32m    810\u001b[0m         \u001b[0;34m:\u001b[0m\u001b[0mrtype\u001b[0m\u001b[0;34m:\u001b[0m \u001b[0mdict\u001b[0m\u001b[0;34m\u001b[0m\u001b[0;34m\u001b[0m\u001b[0m\n\u001b[1;32m    811\u001b[0m         \"\"\"\n\u001b[0;32m--> 812\u001b[0;31m         \u001b[0mdevice_index\u001b[0m \u001b[0;34m=\u001b[0m \u001b[0mpa\u001b[0m\u001b[0;34m.\u001b[0m\u001b[0mget_default_input_device\u001b[0m\u001b[0;34m(\u001b[0m\u001b[0;34m)\u001b[0m\u001b[0;34m\u001b[0m\u001b[0;34m\u001b[0m\u001b[0m\n\u001b[0m\u001b[1;32m    813\u001b[0m         \u001b[0;32mreturn\u001b[0m \u001b[0mself\u001b[0m\u001b[0;34m.\u001b[0m\u001b[0mget_device_info_by_index\u001b[0m\u001b[0;34m(\u001b[0m\u001b[0mdevice_index\u001b[0m\u001b[0;34m)\u001b[0m\u001b[0;34m\u001b[0m\u001b[0;34m\u001b[0m\u001b[0m\n\u001b[1;32m    814\u001b[0m \u001b[0;34m\u001b[0m\u001b[0m\n",
            "\u001b[0;31mOSError\u001b[0m: No Default Input Device Available"
          ]
        }
      ]
    },
    {
      "cell_type": "code",
      "source": [],
      "metadata": {
        "id": "BtCeT4pvqu6R"
      },
      "execution_count": null,
      "outputs": []
    }
  ]
}